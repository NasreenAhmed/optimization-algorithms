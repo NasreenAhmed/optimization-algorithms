{
  "nbformat": 4,
  "nbformat_minor": 0,
  "metadata": {
    "colab": {
      "name": "exact_line_search.ipynb",
      "provenance": [],
      "collapsed_sections": []
    },
    "kernelspec": {
      "name": "python3",
      "display_name": "Python 3"
    },
    "language_info": {
      "name": "python"
    }
  },
  "cells": [
    {
      "cell_type": "markdown",
      "metadata": {
        "id": "nGJsRQKhVZTg"
      },
      "source": [
        "Algorithm to be implemented \n",
        "```\n",
        "function line _search(f,x,d)\n",
        "  objective = alpha = f(x+alpha*d)\n",
        "  a,b = bracket_minimum(objective)\n",
        "  alpha = minimize(objective,a,b)\n",
        "  return x+alpha*d\n",
        "end\n",
        "```\n",
        "Example to be implemented. :\n",
        "Consider conducting a line search on $f(x_1,x_2,x_3)=sin(x_1,x_2)+e^{(x_2+x_3)} -x_3$  from $x=[1,2,3]$ in the direction $d=[0,-1,-1]$.  The corresponding optimization problem is :\n",
        "\n",
        "Minimize: \n",
        "\n",
        "=>$sin((1+0*\\alpha)(2+(-1)*\\alpha))+ e^{(2+(-1)*\\alpha)+(3+(-1)*\\alpha)} - (3+(-1)*\\alpha)$\n",
        "\n",
        "=>$sin(2-2\\alpha) +e^{(5-2\\alpha)} +\\alpha - 3$\n",
        "\n",
        "The solution is  $\\alpha \\approx 3.127$ and $x \\approx [1,-1.126, -0.126].$\n"
      ]
    },
    {
      "cell_type": "code",
      "metadata": {
        "id": "2E10yX3uXrsm",
        "colab": {
          "base_uri": "https://localhost:8080/",
          "height": 265
        },
        "outputId": "479df42d-71c5-4d89-b7b2-c17ee098649c"
      },
      "source": [
        "# Plotting the Objective function of alpha that needs to be minimized\n",
        "import numpy as np\n",
        "import math\n",
        "import matplotlib.pyplot as plt\n",
        "\n",
        "x_axis = np.linspace(0.5,6.0,100)\n",
        "y_axis = list(map(lambda alpha : math.sin(2-alpha)+math.exp(5-2*alpha)+alpha-3,x_axis))\n",
        "plt.plot(x_axis,y_axis)\n",
        "plt.show()"
      ],
      "execution_count": 44,
      "outputs": [
        {
          "output_type": "display_data",
          "data": {
            "image/png": "[encoded data removed]",
            "text/plain": [
              "<Figure size 432x288 with 1 Axes>"
            ]
          },
          "metadata": {
            "tags": [],
            "needs_background": "light"
          }
        }
      ]
    },
    {
      "cell_type": "code",
      "metadata": {
        "id": "crF7Z7J6gkN5"
      },
      "source": [
        "# function to find the initial bracket of the objective function \n",
        "# Have directly specified the simplified version of the function\n",
        "def f(alpha):\n",
        "  \n",
        "  return math.sin(2-alpha)+math.exp(5-2*alpha)+alpha-3\n",
        "\n",
        "# derivative of the objective function \n",
        "\n",
        "def f_der(f,alpha):\n",
        "  h = 0.00001\n",
        "  return (f(alpha+h)-f(alpha))/h"
      ],
      "execution_count": 40,
      "outputs": []
    },
    {
      "cell_type": "code",
      "metadata": {
        "id": "tleyBU0YqzNl"
      },
      "source": [
        "'''Function to find the range in the function which contains the minimum value of the function\n",
        "    Satisfying the condition   f(x1)>f(x0)<f(x2)'''\n",
        "\n",
        "def initial_bracket(alpha,fac,eps):\n",
        "\n",
        "  i = 1\n",
        "\n",
        "  x0, f_x0 = alpha, f(alpha)\n",
        "\n",
        "  x1 = x0 + (fac*i)*eps\n",
        "\n",
        "  f_x1 = float(\"%.4f\"% f(x1))\n",
        "\n",
        "\n",
        "  if f_x0 < f_x1 : #''' We reverse the bracket direction, if this condition is true in the initial initiation'''\n",
        "    j = i*2 \n",
        "    x0 = x1\n",
        "    eps = -eps\n",
        "    x1 = x0 + (fac*j)*eps\n",
        "  \n",
        "  i = i*2\n",
        "  x2 = x1 + (fac*i) * eps # finding the next point x2, such that f(x2)>f(x1)\n",
        "  f_x2 = float(\"%.4f\" % f(x2))\n",
        "  iter = 1\n",
        "\n",
        "  # Storing the data at the iteration level.\n",
        "  \n",
        "  if (f_x1 > f_x2): #''' Check for f(x2) > f(x1)'''\n",
        "    \n",
        "    while (f_x1 > f_x2): #Finding the point in the function which is greater than f(x2) such that f(x1)>f(x2)<f(x3).     \n",
        "\n",
        "      iter+=1  \n",
        "      x0, x1 = x1, x2   \n",
        "      f_x0, f_x1 = f(x0), f(x1)\n",
        "      i = i*2\n",
        "      x2 = x2 + (fac*i) * eps\n",
        "      f_x2 = float(\"%.4f\" % f(x2))\n",
        "     \n",
        "    return [x0,x2]\n",
        "\n",
        "  else:\n",
        " \n",
        "    return [x0,x2]"
      ],
      "execution_count": null,
      "outputs": []
    },
    {
      "cell_type": "code",
      "metadata": {
        "id": "ZCGBo5SQhoPB"
      },
      "source": [
        "def bisection_root_finding(a,b,eps):\n",
        "\n",
        "  if a > b : \n",
        "    a,b = b,a \n",
        "  \n",
        "  f_a, f_b = f_der(f,a), f_der(f,b)\n",
        "\n",
        "\n",
        "  if f_a == 0:\n",
        "    b = a\n",
        "    return (a)\n",
        "\n",
        "  if f_b == 0:\n",
        "    a = b\n",
        "    return (b)\n",
        "  iter = 0\n",
        " \n",
        "  while abs(b - a) > eps:\n",
        "    iter +=1\n",
        "\n",
        "    x = (a+b)/2\n",
        "\n",
        " \n",
        "    y = f_der(f,x)\n",
        "\n",
        "  \n",
        "\n",
        "    if y == 0:\n",
        "      a,b = x, x\n",
        "      break\n",
        "\n",
        "    if np.sign(y)  < 0  :\n",
        "      a = x\n",
        "    \n",
        "    else:\n",
        "      b = x\n",
        "\n",
        "  return (a+b)/2"
      ],
      "execution_count": 41,
      "outputs": []
    },
    {
      "cell_type": "code",
      "metadata": {
        "id": "poYJn2fofFGK"
      },
      "source": [
        "def line_search(alpha,x,d):\n",
        "  \n",
        "  a,b = initial_bracket(alpha,fac=2,eps=0.01)\n",
        "  print(\"Initial Bracket a,b:\",a,b)\n",
        "  alpha = bisection_root_finding(a,b,eps=1e-5)\n",
        "  print(\"Value of alpha\",alpha)\n",
        "  return (x+alpha*d)"
      ],
      "execution_count": 42,
      "outputs": []
    },
    {
      "cell_type": "code",
      "metadata": {
        "colab": {
          "base_uri": "https://localhost:8080/"
        },
        "id": "HZZ7VTfgiHhl",
        "outputId": "b63ba59e-8630-40a4-c290-70a2207f0d0f"
      },
      "source": [
        "alpha  = 0\n",
        "x = np.array([1,2,3])\n",
        "d = np.array([0,-1,-1])\n",
        "line_search(alpha,x,d)"
      ],
      "execution_count": 45,
      "outputs": [
        {
          "output_type": "stream",
          "text": [
            "Initial Bracket a,b: 1.2600000000000002 5.1\n",
            " Value of alpha 3.1270422363281245\n"
          ],
          "name": "stdout"
        },
        {
          "output_type": "execute_result",
          "data": {
            "text/plain": [
              "array([ 1.        , -1.12704224, -0.12704224])"
            ]
          },
          "metadata": {
            "tags": []
          },
          "execution_count": 45
        }
      ]
    }
  ]
}