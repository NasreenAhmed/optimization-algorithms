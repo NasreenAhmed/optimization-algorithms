{
  "nbformat": 4,
  "nbformat_minor": 0,
  "metadata": {
    "colab": {
      "name": "Fibonacci_Method.ipynb",
      "provenance": [],
      "collapsed_sections": []
    },
    "kernelspec": {
      "name": "python3",
      "display_name": "Python 3"
    },
    "language_info": {
      "name": "python"
    }
  },
  "cells": [
    {
      "cell_type": "code",
      "metadata": {
        "id": "Mt3-MulhqZR9"
      },
      "source": [
        "# Importing required python libraries\n",
        "import math\n",
        "import numpy as np"
      ],
      "execution_count": 5,
      "outputs": []
    },
    {
      "cell_type": "code",
      "metadata": {
        "id": "Qd3bR8w3nLM-"
      },
      "source": [
        "def fun(x):\n",
        "  val = x**4-14*x**3+60*x**2-70*x\n",
        "  return val"
      ],
      "execution_count": 6,
      "outputs": []
    },
    {
      "cell_type": "code",
      "metadata": {
        "id": "aPR39KsZqDOd"
      },
      "source": [
        "#Fibonacci Function\n",
        "def fibonacci(n):\n",
        "  f0=0\n",
        "  f1=1\n",
        "  #Initialize an empty array\n",
        "  arr = [0]*n\n",
        "  arr[0]= 0\n",
        "  arr[1]= 1\n",
        "  for i in range(2,n):\n",
        "    arr[i]=arr[i-1]+arr[i-2]\n",
        "  return arr[1:]"
      ],
      "execution_count": 7,
      "outputs": []
    },
    {
      "cell_type": "code",
      "metadata": {
        "id": "DnSkNEeGeoug"
      },
      "source": [
        "# Fibonacci search Method \n",
        "def fibonacci_search(a,b,eps):\n",
        "  \n",
        "    ''' The number of iterations needed to reach the given range between two values,i.e|a-b|< epsilon\n",
        "         (1+2*epsilon)^/F_(n+1) <= 0.3(final range)/2(given initial range)'''\n",
        "\n",
        "    N = math.ceil((1+2*eps)/(0.3/(b-a)))\n",
        "  \n",
        "    arr = fibonacci(N+1)\n",
        "    #Comparing the value of N, in our fibonacci sequence\n",
        "\n",
        "    for i in range(0,len(arr)):\n",
        "      if arr[i] >= N:\n",
        "        N=i-1  #because F_(N+1)>= N, so value of iteration N, will be less than N+1.\n",
        "        break\n",
        "    \n",
        "    print(\"We need :\",N,\"iteration to reach within the given range\")\n",
        "  \n",
        "    ''' We will use iteration to arrive at the required range.\n",
        "      Since, for the first time we need to calculate 2 evaluation points, we will keep the first iteration \n",
        "      out of the iteration look'''\n",
        "    #Iteration : 1\n",
        "    ro = 1 - (arr[N]/arr[N+1])\n",
        "    a1 = a + ro*(b-a)\n",
        "    b1 = a + (1-ro)*(b-a)\n",
        "    f1= fun(a1)\n",
        "    f2 = fun(b1)\n",
        "\n",
        "    for i in range(1,N+2):\n",
        "      if abs(a-b) <= 0.3:\n",
        "        print(\"The final range between a & b : \",abs(b-a),\"\\t\")\n",
        "        break\n",
        "      f1= fun(a1)\n",
        "      f2= fun(b1)\n",
        "      ro = 1 - (arr[N-i]/arr[N+1-i]) # recalculating the value of rho, for every interval\n",
        "      if ro == 0.5: #special case for the last iteration being handled in this if clause.\n",
        "        if f1 <= f2:\n",
        "          b = b1\n",
        "          b1 = a1  \n",
        "          print(\"a:\",a,\"b:\",b,\"\\t\")\n",
        "          print(\"Iteration :\",i,\"f1: \",f1,\" f2: \",f2,\"\\t\")\n",
        "          a1 = a + (ro-eps)*(b-a) \n",
        "        else:\n",
        "          a = a1\n",
        "          a1 = b1\n",
        "          print(\"a:\",a,\"b:\",b,\"\\t\")\n",
        "          print(\"Iteration :\",i,\"f1: \",f1,\" f2: \",f2,\"\\t\")\n",
        "          b1 =  a + (ro+eps)*(b-a)\n",
        "      else:  # for rest of the iterations before the last iteration, the following steps are executed.\n",
        "        if f1 <= f2:\n",
        "          print(\"a:\",a,\"b:\",b,\"\\t\")\n",
        "          print(\"Iteration :\",i,\"f1: \",f1,\" f2: \",f2,\"\\t\")\n",
        "          b=b1\n",
        "          b1=a1\n",
        "          a1 = a + ro*(b-a) \n",
        "        else:\n",
        "          print(\"a:\",a,\"b:\",b,\"\\t\")\n",
        "          print(\"Iteration :\",i,\"f1: \",f1,\" f2: \",f2,\"\\t\")\n",
        "          a = a1\n",
        "          a1 = b1\n",
        "          b1 =  a + (1-ro)*(b-a)"
      ],
      "execution_count": 8,
      "outputs": []
    },
    {
      "cell_type": "code",
      "metadata": {
        "colab": {
          "base_uri": "https://localhost:8080/"
        },
        "id": "te3koiYQuB1-",
        "outputId": "b42800c8-0148-4508-b4c1-df8204f48ebb"
      },
      "source": [
        "a=0\n",
        "b=2\n",
        "fibonacci_search(a,b,eps=0.05)"
      ],
      "execution_count": 9,
      "outputs": [
        {
          "output_type": "stream",
          "text": [
            "We need : 4 iteration to reach within the given range\n",
            "a: 0 b: 2 \t\n",
            "Iteration : 1 f1:  -24.33984375  f2:  -18.65234375 \t\n",
            "a: 0 b: 1.25 \t\n",
            "Iteration : 2 f1:  -21.6875  f2:  -24.33984375 \t\n",
            "a: 0.5 b: 1.0 \t\n",
            "Iteration : 3 f1:  -24.33984375  f2:  -23.0 \t\n",
            "a: 0.5 b: 1.0 \t\n",
            "Iteration : 4 f1:  -24.271312109374996  f2:  -24.33984375 \t\n",
            "The final range between a & b :  0.275 \t\n"
          ],
          "name": "stdout"
        }
      ]
    }
  ]
}