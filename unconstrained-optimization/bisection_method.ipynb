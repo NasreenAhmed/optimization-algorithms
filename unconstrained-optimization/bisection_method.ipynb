{
  "nbformat": 4,
  "nbformat_minor": 0,
  "metadata": {
    "colab": {
      "name": "Bisection_Method.ipynb",
      "provenance": [],
      "collapsed_sections": []
    },
    "kernelspec": {
      "name": "python3",
      "display_name": "Python 3"
    },
    "language_info": {
      "name": "python"
    }
  },
  "cells": [
    {
      "cell_type": "code",
      "metadata": {
        "id": "7-ZEIKbBpwCf"
      },
      "source": [
        "# Importing required python libraries\n",
        "import math\n",
        "import numpy as np\n",
        "\n",
        "#defining the derivative of the given function \n",
        "\n",
        "def derivtive_fun(x):\n",
        "  val = 4*x**3-42*x**2+120*x-70\n",
        "  return val"
      ],
      "execution_count": 2,
      "outputs": []
    },
    {
      "cell_type": "code",
      "metadata": {
        "id": "oYND-Qdrp4wl"
      },
      "source": [
        "# Bisection Method \n",
        "\n",
        "def bisection_method(a,b):\n",
        "  \n",
        "    ''' The number of iterations needed can be calculated by solving (0.5)^N <= 0.3/2'''\n",
        "         \n",
        "    N = math.ceil(np.log10(0.3/(b-a))/np.log10(0.5))\n",
        "  \n",
        "    print(\"We need :\",N,\"iteration to reach within the given range\")\n",
        "\n",
        "    x = (a+b)/2\n",
        "    \n",
        "    f = derivtive_fun(x)\n",
        "\n",
        "    i=0\n",
        "\n",
        "    while f!=0:\n",
        "\n",
        "      if abs(a-b)<=0.3:\n",
        "\n",
        "        print(\"The range between a & b : \",abs(b-a),\"\\t\")\n",
        "\n",
        "        break\n",
        "        \n",
        "      i=i+1\n",
        "\n",
        "      x = (a+b)/2\n",
        "      \n",
        "      f = derivtive_fun(x)\n",
        "\n",
        "      print(\"Iteration:\",i,\"a:\",a,\"b:\",b,\"x:\",x,\"f:\",f,\"\\t\")\n",
        "\n",
        "      if f > 0:\n",
        "\n",
        "        b = x\n",
        "\n",
        "      elif f < 0:\n",
        "\n",
        "        a = x"
      ],
      "execution_count": 18,
      "outputs": []
    },
    {
      "cell_type": "code",
      "metadata": {
        "colab": {
          "base_uri": "https://localhost:8080/"
        },
        "id": "MuMOFYMpp69-",
        "outputId": "00db7ed7-e1e6-46b0-aac1-0396fa798c69"
      },
      "source": [
        "a=0\n",
        "b=2\n",
        "bisection_method(a,b)"
      ],
      "execution_count": 19,
      "outputs": [
        {
          "output_type": "stream",
          "text": [
            "We need : 3 iteration to reach within the given range\n",
            "Iteration: 1 a: 0 b: 2 x: 1.0 f: 12.0 \t\n",
            "Iteration: 2 a: 0 b: 1.0 x: 0.5 f: -20.0 \t\n",
            "Iteration: 3 a: 0.5 b: 1.0 x: 0.75 f: -1.9375 \t\n",
            "The range between a & b :  0.25 \t\n"
          ],
          "name": "stdout"
        }
      ]
    }
  ]
}