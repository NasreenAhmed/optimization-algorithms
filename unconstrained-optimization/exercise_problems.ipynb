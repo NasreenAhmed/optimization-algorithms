{
  "nbformat": 4,
  "nbformat_minor": 0,
  "metadata": {
    "colab": {
      "name": "exercise_problems.ipynb",
      "provenance": [],
      "collapsed_sections": []
    },
    "kernelspec": {
      "name": "python3",
      "display_name": "Python 3"
    },
    "language_info": {
      "name": "python"
    }
  },
  "cells": [
    {
      "cell_type": "markdown",
      "metadata": {
        "id": "nPX-nJZoG4Lj"
      },
      "source": [
        "Q. Let $f(x)=x^2+4cos(x)$. We wish to find the minimizer $x^*$ of $f$ over the interval $[1,2]$.\n",
        "\n",
        "(a) Plot $f(x)$ versus $x$ over the interval $[1,2]$."
      ]
    },
    {
      "cell_type": "code",
      "metadata": {
        "id": "_DWfDQV4IYbT"
      },
      "source": [
        "import numpy as np\n",
        "import math\n",
        "import matplotlib.pyplot as plt"
      ],
      "execution_count": 2,
      "outputs": []
    },
    {
      "cell_type": "code",
      "metadata": {
        "id": "GP_szivCHvtf"
      },
      "source": [
        "# function definition\n",
        "def f(x):\n",
        "\n",
        "  y = x**2 + 4*np.cos(x)\n",
        "\n",
        "  return y"
      ],
      "execution_count": 3,
      "outputs": []
    },
    {
      "cell_type": "code",
      "metadata": {
        "colab": {
          "base_uri": "https://localhost:8080/",
          "height": 286
        },
        "id": "ycZRpamRGV3R",
        "outputId": "49ba5782-dbdc-49d3-9ef8-41da80bfb4b3"
      },
      "source": [
        "# Ploting the function x^2+4cos(x)\n",
        "x = np.arange(1,2,0.01)\n",
        "y = [0]* len(x) # define an empty array for storing values of y\n",
        "\n",
        "for i in range(0,len(x)):\n",
        "  y[i] = f(x[i])\n",
        "\n",
        "plt.plot(x, y)"
      ],
      "execution_count": 11,
      "outputs": [
        {
          "output_type": "execute_result",
          "data": {
            "text/plain": [
              "[<matplotlib.lines.Line2D at 0x7f45e428ad50>]"
            ]
          },
          "metadata": {
            "tags": []
          },
          "execution_count": 11
        },
        {
          "output_type": "display_data",
          "data": {
            "image/png": "[encoded data removed]",
            "text/plain": [
              "<Figure size 432x288 with 1 Axes>"
            ]
          },
          "metadata": {
            "tags": [],
            "needs_background": "light"
          }
        }
      ]
    },
    {
      "cell_type": "markdown",
      "metadata": {
        "id": "dJKFy0KwIhCc"
      },
      "source": [
        "(b) Use the golden section method to locate $x^*$ to within an uncertainty of $0.2$. Display all intermediate steps using a table"
      ]
    },
    {
      "cell_type": "code",
      "metadata": {
        "id": "R9GcE3m7LReV"
      },
      "source": [
        "# Golden section search function \n",
        "def golden_section_search(a,b,ro,r):\n",
        "  \n",
        "    ''' The number of iterations needed to reach the given range between two values,i.e|a-b|< epsilon\n",
        "         (1-ro)^N <= 0.2(final range)/1(given initial range)'''\n",
        "\n",
        "    N=math.ceil(np.log10(r/(b-a))/np.log10(1-ro))\n",
        "\n",
        "    arr1 = np.array([\"Iteration k\",\"a\",\"b\",\"f(a)\",\"f(b)\", \"New Uncertainity interval\"])\n",
        "   \n",
        "    arr = np.empty((N, 6), dtype=object)\n",
        "\n",
        "    arr = np.vstack((arr1,arr))\n",
        "\n",
        "    a1 = a + ro*(b-a)\n",
        "\n",
        "    b1 = a + (1-ro)*(b-a)\n",
        "\n",
        "    for i in range(1,len(arr)):\n",
        "\n",
        "      j=0\n",
        "\n",
        "      f1= f(a1); f2 = f(b1)\n",
        "\n",
        "      if f1<=f2:\n",
        "\n",
        "        b=b1\n",
        "\n",
        "        b1=a1\n",
        "\n",
        "        a1 = a + ro*(b-a) \n",
        "\n",
        "      else:\n",
        "       \n",
        "        a = a1\n",
        "\n",
        "        a1 = b1\n",
        "\n",
        "        b1 =  a + (1-ro)*(b-a)\n",
        "\n",
        "      arr[i,j] = i ; arr[i,j+1]=a1 ; arr[i,j+2]=b1; arr[i,j+3]=f1; arr[i,j+4]=f2;arr[i,j+5]= str([a,b])\n",
        "     \n",
        "      if abs(a-b) <= r:\n",
        "\n",
        "        for i in arr:\n",
        "\n",
        "          print(*i)"
      ],
      "execution_count": 54,
      "outputs": []
    },
    {
      "cell_type": "code",
      "metadata": {
        "colab": {
          "base_uri": "https://localhost:8080/"
        },
        "id": "N9o1Kvs5JlWD",
        "outputId": "73e6222c-2494-42d2-fabc-d81180812da5"
      },
      "source": [
        "a = 1\n",
        "b = 2\n",
        "ro = 0.3819\n",
        "r = 0.2\n",
        "golden_section_search(a,b,ro,r)"
      ],
      "execution_count": 55,
      "outputs": [
        {
          "output_type": "stream",
          "text": [
            "Iteration k a b f(a) f(b) New Uncertainity interval\n",
            "1 1.6181 1.76394761 2.6607474836438056 2.42910347493365 [1.3819, 2]\n",
            "2 1.76394761 1.85415239 2.42910347493365 2.3437010685479547 [1.6181, 2]\n",
            "3 1.85415239 1.909851592259 2.3437010685479547 2.3195632893965064 [1.76394761, 2]\n",
            "4 1.909851592259 1.944300797741 2.3195632893965064 2.3171479422166215 [1.85415239, 2]\n"
          ],
          "name": "stdout"
        }
      ]
    },
    {
      "cell_type": "code",
      "metadata": {
        "id": "iUZIGSZsfKv8"
      },
      "source": [
        ""
      ],
      "execution_count": null,
      "outputs": []
    },
    {
      "cell_type": "markdown",
      "metadata": {
        "id": "6nGlweHzXy6a"
      },
      "source": [
        "(c) Repeat part b using the Fibonacci method, with $\\epsilon = 0.05$. Display all intermediate steps using a table."
      ]
    },
    {
      "cell_type": "code",
      "metadata": {
        "id": "oTwx5uQeYCLJ"
      },
      "source": [
        "#Fibonacci Function\n",
        "def fibonacci(n):\n",
        "\n",
        "  f0=0\n",
        "\n",
        "  f1=1\n",
        "\n",
        "  #Initialize an empty array\n",
        "\n",
        "  arr = [0]*n\n",
        "\n",
        "  arr[0]= 0\n",
        "\n",
        "  arr[1]= 1\n",
        "\n",
        "  for i in range(2,n):\n",
        "\n",
        "    arr[i]=arr[i-1]+arr[i-2]\n",
        "    \n",
        "  return arr[1:]"
      ],
      "execution_count": 48,
      "outputs": []
    },
    {
      "cell_type": "code",
      "metadata": {
        "id": "ixtN3gEFaMtl"
      },
      "source": [
        "# Fibonacci search Method \n",
        "def fibonacci_search(a,b,r,eps):\n",
        "  \n",
        "    ''' The number of iterations needed to reach the given range between two values,i.e|a-b|< epsilon\n",
        "         (1+2*epsilon)^/F_(n+1) <= 0.2(final range)/1(given initial range)'''\n",
        "\n",
        "    N = math.ceil((1+2*eps)/(r/(b-a)))\n",
        "    \n",
        "    fib = fibonacci(N+1)\n",
        "    #Comparing the value of N, in our fibonacci sequence\n",
        "\n",
        "    for i in range(0,len(fib)):\n",
        "\n",
        "      if fib[i] >= N:\n",
        "\n",
        "        N=i-1  #because F_(N+1)>= N, so value of iteration N, will be less than N+1.\n",
        "        break\n",
        "\n",
        "    print(N,\"-iterations are needed to reach within the given range\",\"\\n\")\n",
        "  \n",
        "    arr = np.empty((N, 7), dtype=object)\n",
        "\n",
        "    ro = 1 - (fib[N]/fib[N+1])\n",
        "\n",
        "    a1 = a + ro*(b-a)\n",
        "\n",
        "    b1 = a + (1-ro)*(b-a)\n",
        "\n",
        "    for i in range(0,N):\n",
        "\n",
        "      j = 0\n",
        "\n",
        "      f1 = f(a1); f2 = f(b1)\n",
        "\n",
        "      ro = 1 - (fib[N-i]/fib[N+1-i]) # recalculating the value of rho, for every interval\n",
        "\n",
        "      if ro == 0.5: #special case for the last iteration being handled in this if clause.\n",
        "       \n",
        "        if f1 <= f2:\n",
        "          \n",
        "          b = b1\n",
        "\n",
        "          b1 = a1  \n",
        "          \n",
        "          a1 = a + (ro-eps)*(b-a) \n",
        "\n",
        "        else:\n",
        "\n",
        "          a = a1\n",
        "\n",
        "          a1 = b1\n",
        "        \n",
        "          b1 =  a + (ro+eps)*(b-a)\n",
        "\n",
        "      else:  # for rest of the iterations before the last iteration, the following steps are executed.\n",
        "\n",
        "        if f1 <= f2:\n",
        "\n",
        "          b=b1\n",
        "\n",
        "          b1=a1\n",
        "\n",
        "          a1 = a + ro*(b-a) \n",
        "\n",
        "        else:\n",
        "\n",
        "          a = a1\n",
        "\n",
        "          a1 = b1\n",
        "\n",
        "          b1 =  a + (1-ro)*(b-a)\n",
        "     \n",
        "      arr[i,j] = i ; arr[i,j+1] = ro; arr[i,j+2] = a1 ; arr[i,j+3] = b1\n",
        "\n",
        "      arr[i,j+4] = f1; arr[i,j+5] = f2; arr[i,j+6]= str([a,b])\n",
        "\n",
        "      if abs(a-b) <= r:\n",
        "\n",
        "        arr1 = np.array([\"Iter-k\",\" rho \",\" a \",\" b \",\" f(a) \",\" f(b) \", \" New Uncertainity interval \"])\n",
        "   \n",
        "        arr = np.vstack((arr1,arr))\n",
        "\n",
        "        for i in arr:\n",
        "\n",
        "          print(*i)\n",
        "\n",
        "      "
      ],
      "execution_count": 106,
      "outputs": []
    },
    {
      "cell_type": "code",
      "metadata": {
        "colab": {
          "base_uri": "https://localhost:8080/"
        },
        "id": "XF5lJlcjYVcD",
        "outputId": "d327e333-edc8-484c-892b-458af364662d"
      },
      "source": [
        "a=1\n",
        "b=2\n",
        "r=0.2\n",
        "fibonacci_search(a,b,r,eps=0.05)"
      ],
      "execution_count": 107,
      "outputs": [
        {
          "output_type": "stream",
          "text": [
            "4 -iterations are needed to reach within the given range \n",
            "\n",
            "Iter-k  rho   a   b   f(a)   f(b)   New Uncertainity interval \n",
            "0 0.375 1.625 1.765625 2.668815831955949 2.4239164598922547 [1.375, 2]\n",
            "1 0.4 1.765625 1.85 2.4239164598922547 2.34303783115869 [1.625, 2]\n",
            "2 0.33333333333333337 1.85 1.921875 2.34303783115869 2.3201390127019486 [1.765625, 2]\n",
            "3 0.5 1.921875 1.9325 2.3201390127019486 2.317959979837098 [1.85, 2]\n"
          ],
          "name": "stdout"
        }
      ]
    },
    {
      "cell_type": "markdown",
      "metadata": {
        "id": "_u47W2pAleem"
      },
      "source": [
        "(d) Apply Newton's method, using the same number of iterations as in part (b), with $x^{(0)} = 1$"
      ]
    },
    {
      "cell_type": "code",
      "metadata": {
        "id": "GcQsqi-qnyI1"
      },
      "source": [
        "'''Link :https://medium.com/@jamesetaylor/create-a-derivative-calculator-in-python-72ee7bc734a4'''\n",
        "''' Using the concept of finite difference :https://www.wikiwand.com/en/Finite_difference'''\n",
        "\n",
        "#Create a derivative and second derivative calculator in Python\n",
        "\n",
        "from math import *\n",
        "import numpy  as np\n",
        "\n",
        "# Function definition \n",
        "def f(x):\n",
        "  \n",
        "  return x**2 + 4*np.cos(x)\n",
        "\n",
        "\n",
        "#function to calculate 1st derivative\n",
        "def der1(f,value):\n",
        "  h = 0.00001      # substitute for h-> infinity\n",
        "  top = f(value+h) - f(value)\n",
        "  bottom = h\n",
        "  slope = top/bottom\n",
        "\n",
        "  #Returns slode to second decimal \n",
        "  return float(\"%.2f\"% slope)\n",
        "\n",
        "#function to calculate 2nd derivative\n",
        "def der2(f,value):\n",
        "  h = 0.00001\n",
        "  top = f(value + 2*h) - 2*f(value + h) + f(value)\n",
        "  bottom = h**2\n",
        "  slope = top/bottom\n",
        "\n",
        "  #Returns slode to second decimal \n",
        "  return float(\"%.2f\"% slope)"
      ],
      "execution_count": 89,
      "outputs": []
    },
    {
      "cell_type": "code",
      "metadata": {
        "id": "HMtMBEVSn3Gx"
      },
      "source": [
        "# Implementation of Newton method\n",
        "\n",
        "def Newton(x,eps):\n",
        "  \n",
        "  x0 = x\n",
        "\n",
        "  N = 4 # same iterations as part (b)\n",
        "\n",
        "  x1 = np.float(\"{:10.10f}\".format(x0 - (der1(f,x0)/der2(f,x0))))\n",
        "\n",
        "  i=1\n",
        "\n",
        "  arr = np.empty((N,5), dtype=object)\n",
        "\n",
        "  for i in range(0,4): # since the question asks to implement Newton's method using same num of iteration as part(b)\n",
        "\n",
        "    j = 0\n",
        "\n",
        "    arr[i,j] = i ;arr[i,j+1] = x0 ; arr[i,j+2] = x1 ; arr[i,j+3] = der1(f,x0); arr[i,j+4]= der2(f,x0)\n",
        "\n",
        "    x0=x1\n",
        "\n",
        "    x1 = np.float(\"{:10.10f}\".format(x0 - (der1(f,x0)/der2(f,x0))))\n",
        "\n",
        "\n",
        "  arr1 = np.array([\"Iter-k\",\"x0\",\"x1\",\" 1st derivative \",\"2nd Derivative\"])\n",
        "   \n",
        "  arr = np.vstack((arr1,arr))\n",
        "\n",
        "  for i in arr:\n",
        "\n",
        "    print(*i)    \n"
      ],
      "execution_count": 98,
      "outputs": []
    },
    {
      "cell_type": "code",
      "metadata": {
        "colab": {
          "base_uri": "https://localhost:8080/"
        },
        "id": "h1o6HPV6n6cY",
        "outputId": "756037f8-5c49-4d30-d648-da63d1b0adca"
      },
      "source": [
        "x = 1\n",
        "eps = 0.00001\n",
        "Newton(x,eps=0.00001)\n",
        "print(\"\\n\")\n",
        "print(\"Since we see in the 3rd iteration the 2nd derivative is  negative, Newton method is not effective for this function \")\n",
        "print(\"\\n\")"
      ],
      "execution_count": 112,
      "outputs": [
        {
          "output_type": "stream",
          "text": [
            "Iter-k x0 x1  1st derivative  2nd Derivative\n",
            "0 1 -7.5625 -1.37 -0.16\n",
            "1 -7.5625 5.7198529412 -11.29 0.85\n",
            "2 5.7198529412 15.5604326513 13.58 -1.38\n",
            "3 15.5604326513 10.4379494298 30.53 5.96\n",
            "\n",
            "\n",
            "Since we see in the 3rd iteration the 2nd derivative is  negative, Newton method is not effective for this function \n",
            "\n",
            "\n"
          ],
          "name": "stdout"
        }
      ]
    },
    {
      "cell_type": "markdown",
      "metadata": {
        "id": "YUF8OKAOD2j9"
      },
      "source": [
        "Q. Let $f(x) = 8e^{1-x} + 7 log(x)$, where \"log\" representes the natural logarithm function.\n",
        "(a) To plot $f(x)$ versus $x$ over the interval $[1,2]$, and verify that $f$ is unimodal over $[1,2]$"
      ]
    },
    {
      "cell_type": "code",
      "metadata": {
        "id": "gffqGFp_d9e4"
      },
      "source": [
        "def fun(x):\n",
        "\n",
        "  y = 8*math.exp(1-x) + 7*math.log(x)\n",
        "\n",
        "  return y"
      ],
      "execution_count": 124,
      "outputs": []
    },
    {
      "cell_type": "code",
      "metadata": {
        "colab": {
          "base_uri": "https://localhost:8080/",
          "height": 282
        },
        "id": "pW8khAPueCFu",
        "outputId": "608fa4d2-a406-4a36-aca1-650541604683"
      },
      "source": [
        "# Ploting the function x^2+4cos(x)\n",
        "x = np.arange(1,2,0.01)\n",
        "y = [0]* len(x) # define an empty array for storing values of y\n",
        "\n",
        "for i in range(0,len(x)):\n",
        "  y[i] = fun(x[i])\n",
        "\n",
        "plt.plot(x, y)"
      ],
      "execution_count": 125,
      "outputs": [
        {
          "output_type": "execute_result",
          "data": {
            "text/plain": [
              "[<matplotlib.lines.Line2D at 0x7faa5f238350>]"
            ]
          },
          "metadata": {
            "tags": []
          },
          "execution_count": 125
        },
        {
          "output_type": "display_data",
          "data": {
            "image/png": "[encoded data removed]",
            "text/plain": [
              "<Figure size 432x288 with 1 Axes>"
            ]
          },
          "metadata": {
            "tags": [],
            "needs_background": "light"
          }
        }
      ]
    },
    {
      "cell_type": "markdown",
      "metadata": {
        "id": "tzmrbhV4elKd"
      },
      "source": [
        "(b) Write a program to implement golden section method that locates the minimizer over $[1,2]$ to within an uncertainity of 0.23"
      ]
    },
    {
      "cell_type": "code",
      "metadata": {
        "id": "762ij1xMfCiA"
      },
      "source": [
        "# Golden section search function \n",
        "def golden_section_search(a,b,ro,r):\n",
        "  \n",
        "    ''' The number of iterations needed to reach the given range between two values,i.e|a-b|< epsilon\n",
        "         (1-ro)^N <= 0.2(final range)/1(given initial range)'''\n",
        "\n",
        "    N=math.ceil(np.log10(r/(b-a))/np.log10(1-ro))\n",
        "\n",
        "    print(N,\": Iterations are needed to arrive at the given range\")\n",
        "\n",
        "    arr1 = np.array([\"Iteration k\",\"a\",\"b\",\"f(a)\",\"f(b)\", \"New Uncertainity interval\"])\n",
        "   \n",
        "    arr = np.empty((N, 6), dtype=object)\n",
        "\n",
        "    arr = np.vstack((arr1,arr))\n",
        "\n",
        "    a1 = a + ro*(b-a)\n",
        "\n",
        "    b1 = a + (1-ro)*(b-a)\n",
        "\n",
        "    for i in range(1,len(arr)):\n",
        "\n",
        "      j=0\n",
        "\n",
        "      f1= fun(a1); f2 = fun(b1)\n",
        "\n",
        "      if f1<=f2:\n",
        "\n",
        "        b=b1\n",
        "\n",
        "        b1=a1\n",
        "\n",
        "        a1 = a + ro*(b-a) \n",
        "\n",
        "      else:\n",
        "       \n",
        "        a = a1\n",
        "\n",
        "        a1 = b1\n",
        "\n",
        "        b1 =  a + (1-ro)*(b-a)\n",
        "\n",
        "      arr[i,j] = i ; arr[i,j+1]=a1 ; arr[i,j+2]=b1; arr[i,j+3]=f1; arr[i,j+4]=f2;arr[i,j+5]= str([a,b])\n",
        "     \n",
        "      if abs(a-b) <= r:\n",
        "\n",
        "        for i in arr:\n",
        "\n",
        "          print(*i)"
      ],
      "execution_count": 127,
      "outputs": []
    },
    {
      "cell_type": "code",
      "metadata": {
        "colab": {
          "base_uri": "https://localhost:8080/"
        },
        "id": "T8Xi1Fu4fMYT",
        "outputId": "c0c6867d-919d-4072-f28c-e42c79ed4920"
      },
      "source": [
        "a = 1\n",
        "b = 2\n",
        "ro = 0.3819\n",
        "r = 0.23\n",
        "golden_section_search(a,b,ro,r)"
      ],
      "execution_count": 128,
      "outputs": [
        {
          "output_type": "stream",
          "text": [
            "4 : Iterations are needed to arrive at the given range\n",
            "Iteration k a b f(a) f(b) New Uncertainity interval\n",
            "1 1.6181 1.76394761 7.724721995777511 7.680508379013911 [1.3819, 2]\n",
            "2 1.527803982259 1.6181 7.680508379013911 7.699471015377631 [1.3819, 1.76394761]\n",
            "3 1.6181 1.673764358565712 7.686011606138488 7.680508379013911 [1.527803982259, 1.76394761]\n",
            "4 1.5835462499705333 1.6181 7.680508379013911 7.683813930505595 [1.527803982259, 1.673764358565712]\n"
          ],
          "name": "stdout"
        }
      ]
    },
    {
      "cell_type": "markdown",
      "metadata": {
        "id": "cOA7Isvnf60A"
      },
      "source": [
        "(c) Repeat part b using the Fibonacci method, with $\\epsilon=0.05$. Display all intermediate steps using a table"
      ]
    },
    {
      "cell_type": "code",
      "metadata": {
        "id": "o2Q-CK-pfwEn"
      },
      "source": [
        "# Fibonacci search Method \n",
        "def fibonacci_search_2(a,b,r,eps):\n",
        "  \n",
        "    ''' The number of iterations needed to reach the given range between two values,i.e|a-b|< epsilon\n",
        "         (1+2*epsilon)^/F_(n+1) <= 0.23(final range)/1(given initial range)'''\n",
        "\n",
        "    N = math.ceil((1+2*eps)/(r/(b-a)))\n",
        "    \n",
        "    fib = fibonacci(N+1)\n",
        "    #Comparing the value of N, in our fibonacci sequence\n",
        "\n",
        "    for i in range(0,len(fib)):\n",
        "\n",
        "      if fib[i] >= N:\n",
        "\n",
        "        N=i-1  #because F_(N+1)>= N, so value of iteration N, will be less than N+1.\n",
        "        break\n",
        "\n",
        "    print(N,\"-iterations are needed to reach within the given range\",\"\\n\")\n",
        "  \n",
        "    arr = np.empty((N, 7), dtype=object)\n",
        "\n",
        "    ro = 1 - (fib[N]/fib[N+1])\n",
        "\n",
        "    a1 = a + ro*(b-a)\n",
        "\n",
        "    b1 = a + (1-ro)*(b-a)\n",
        "\n",
        "    for i in range(0,N):\n",
        "\n",
        "      j = 0\n",
        "\n",
        "      f1 = fun(a1); f2 = fun(b1)\n",
        "\n",
        "      ro = 1 - (fib[N-i]/fib[N+1-i]) # recalculating the value of rho, for every interval\n",
        "\n",
        "      if ro == 0.5: #special case for the last iteration being handled in this if clause.\n",
        "       \n",
        "        if f1 <= f2:\n",
        "\n",
        "          b = b1\n",
        "\n",
        "          b1 = a1  \n",
        "          \n",
        "          a1 = a + (ro-eps)*(b-a) \n",
        "\n",
        "        else:\n",
        "\n",
        "          a = a1\n",
        "\n",
        "          a1 = b1\n",
        "        \n",
        "          b1 =  a + (ro+eps)*(b-a)\n",
        "\n",
        "      else:  # for rest of the iterations before the last iteration, the following steps are executed.\n",
        "\n",
        "        if f1 <= f2:\n",
        "\n",
        "          b=b1\n",
        "\n",
        "          b1=a1\n",
        "\n",
        "          a1 = a + ro*(b-a) \n",
        "\n",
        "        else:\n",
        "\n",
        "          a = a1\n",
        "\n",
        "          a1 = b1\n",
        "\n",
        "          b1 =  a + (1-ro)*(b-a)\n",
        "     \n",
        "      arr[i,j] = i ; arr[i,j+1] = ro; arr[i,j+2] = a1 ; arr[i,j+3] = b1\n",
        "\n",
        "      arr[i,j+4] = f1; arr[i,j+5] = f2; arr[i,j+6]= str([a,b])\n",
        "\n",
        "    \n",
        "\n",
        "      if abs(a-b) <= r:\n",
        "\n",
        "        arr1 = np.array([\"Iter-k\",\" rho \",\" a \",\" b \",\" f(a) \",\" f(b) \", \" New Uncertainity interval \"])\n",
        "   \n",
        "        arr = np.vstack((arr1,arr))\n",
        "\n",
        "        for i in arr:\n",
        "\n",
        "          print(*i)\n",
        "\n",
        "      "
      ],
      "execution_count": 142,
      "outputs": []
    },
    {
      "cell_type": "code",
      "metadata": {
        "colab": {
          "base_uri": "https://localhost:8080/"
        },
        "id": "hh1_8-trgHaH",
        "outputId": "306cc2c5-c3a9-449c-a55a-6d8fccc335ac"
      },
      "source": [
        "a=1\n",
        "b=2\n",
        "r=0.24\n",
        "fibonacci_search_2(a,b,r,eps=0.05)"
      ],
      "execution_count": 143,
      "outputs": [
        {
          "output_type": "stream",
          "text": [
            "3 -iterations are needed to reach within the given range \n",
            "\n",
            "Iter-k  rho   a   b   f(a)   f(b)   New Uncertainity interval \n",
            "0 0.4 1.6 1.76 7.717866024633604 7.680518493472361 [1.4, 2]\n",
            "1 0.33333333333333337 1.52 1.6 7.680518493472361 7.698528079429697 [1.4, 1.76]\n",
            "2 0.5 1.6 1.6520000000000001 7.68713672776885 7.680518493472361 [1.52, 1.76]\n"
          ],
          "name": "stdout"
        }
      ]
    },
    {
      "cell_type": "markdown",
      "metadata": {
        "id": "5uGXYAYNmV33"
      },
      "source": [
        "Q. Suppose that we have an effecient way of calculating exponentials. Based on this, use Newton's method to device a methodd to approximate log(2) [where \"log\" is the natural logarithm function]. Use an initial point of $x^{(0)}=1$, and perform two iterations."
      ]
    },
    {
      "cell_type": "markdown",
      "metadata": {
        "id": "Rs5j8Z6SL1IK"
      },
      "source": [
        "Q. Suppose that $\\rho_1, \\rho_2,\\ldots, \\rho_n$ are the values used in the Fibonacci serch method. Show that for each $k=1,\\ldots, N$, $0\\leq \\rho_k \\leq 1/2$, and for each $k = 1,\\ldots, N$,\n",
        "\n",
        "$\\rho_{k+1}  = \\frac{\\rho_k}{1-\\rho_k}$\n"
      ]
    },
    {
      "cell_type": "markdown",
      "metadata": {
        "id": "ohg92T1jMpCN"
      },
      "source": [
        "Sol : We know $\\rho_2 = 1 - \\frac{F_{N-1}}{F_N}$\n",
        "We dervive $\\rho_2$ by taking $k=1$ in the given equation.\n",
        "\n",
        "$F_{N+1} = F_N + F_{N-1}$. ------(1)\n",
        "\n",
        "Given equation : \n",
        "\n",
        "=> $ \\rho_{k+1} = 1 - \\frac{\\rho_k}{1- \\rho_k}$\n",
        "\n",
        "Substituting k =1,we get :\n",
        "\n",
        "$ \\rho_2 = 1 - \\frac{\\rho_1}{1- \\rho_1}$\n",
        "\n",
        "from the definition of Fibonacci method, we know  $\\rho_1 = 1 - \\frac{F_N}{F_{N+1}}$\n",
        "\n",
        "=>$ \\rho_2 = 1 - \\frac{\\rho_1}{1- \\rho_1}$    \n",
        "\n",
        "\n",
        "=>$\\rho_2 = 1 - \\frac{\\frac{F_N}{F_{N+1}}}{1-\\frac{F_N}{F_{N+1}}} $\n",
        "\n",
        "=>$\\rho_2 = 1 - \\frac{\\frac{F_N}{F_{N+1}}}{\\frac{F_{N+1}-F_N}{F_{N+1}}} $\n",
        "\n",
        "=>$\\rho_2 = 1 - \\frac{\\frac{F_N}{F_{N+1}}}{\\frac{F_{N-1}}{F_{N+1}}} $\n",
        "\n",
        "$\\rho_2 = 1 - \\frac{F_N}{F_{N-1}} $\n",
        "\n",
        "which is actually, equal to the value of $\\rho_2$ as mentioned above.\n",
        "\n",
        "Similarly, the equaltion is valid for $k=1,\\ldots,N$\n"
      ]
    },
    {
      "cell_type": "markdown",
      "metadata": {
        "id": "fNUb2ISjWB9r"
      },
      "source": [
        "Q. Show that if $F_0,F_1,\\ldots $ is  the Fibonacci seqence, then for $k=2,3,\\ldots$, \n",
        "\n",
        "$F_{k-2}F_{k+1} - F_{k-1}F_k = (-1)^k $\n",
        "\n",
        "Sol: We will proof by induction: \n",
        "\n",
        "1. Base Case: for k=2\n",
        "\n",
        "lhs: $F_0F_3 - F_1F_2 =>  1*3 - 1*2=> 1 $\n",
        "\n",
        "rhs : $ (-1)^2 = 1$\n",
        "\n",
        "lhs = rhs. Equality of base case proven.\n",
        "\n",
        "2. Inductive step : The given relation is true for $k$, ie. $F_{k-2}F_{k+1} - F_{k-1}F_k = (-1)^k$ is true.\n",
        "\n",
        "Now, we prove the above relation is true for $k+1$\n",
        "\n",
        "=> $F_{k+1-2}F_{k+1+1} - F_{k+1-1}F_{k+1}$\n",
        "\n",
        "=> $F_{k-1}F_{k+2} - F_kF_{k+1}$\n",
        "\n",
        "=> $F_{k-1}(F_k+F_{k+1}) - F_{k+1}(F_{k-1}+F_{k-2})$\n",
        "\n",
        "=> $F_{k-1}F_k + F_{k-1}F_{k+1} - F_{k+1}F_{k-1} - F_{k+1}F_{k+2}$\n",
        "\n",
        "=> $F_{k-1}F_k - F_{k+1}F_{k+2}$\n",
        "\n",
        "=> $-(F_{k-1}F_k - F_{k+1}F_{k+2})$\n",
        "\n",
        "=> $- (-1)^k$\n",
        "\n",
        "=> $ (-1)^{k+1}$"
      ]
    }
  ]
}