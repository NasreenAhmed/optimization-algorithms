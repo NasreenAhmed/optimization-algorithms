{
  "nbformat": 4,
  "nbformat_minor": 0,
  "metadata": {
    "colab": {
      "name": "Golden_Section_Search.ipynb",
      "provenance": [],
      "collapsed_sections": []
    },
    "kernelspec": {
      "name": "python3",
      "display_name": "Python 3"
    },
    "language_info": {
      "name": "python"
    }
  },
  "cells": [
    {
      "cell_type": "code",
      "metadata": {
        "id": "oA_zN_RBUdiT"
      },
      "source": [
        "def fun(x):\n",
        "  val = x**4-14*x**3+60*x**2-70*x\n",
        "  return val"
      ],
      "execution_count": 3,
      "outputs": []
    },
    {
      "cell_type": "code",
      "metadata": {
        "id": "GgINfeaAMS5y"
      },
      "source": [
        "# Importting required python libraries\n",
        "import math\n",
        "import numpy as np\n",
        "from termcolor import colored\n",
        "\n",
        "# Golden section search function \n",
        "def golden_section_search(a,b,ro):\n",
        "  \n",
        "    ''' The number of iterations needed to reach the given range between two values,i.e|a-b|< epsilon\n",
        "         (1-ro)^N <= 0.3(final range)/2(given initial range)'''\n",
        "\n",
        "    N=math.ceil(np.log10(0.3/2)/np.log10(0.6181))\n",
        "  \n",
        "    ''' We will use iteration to arrive at the required range.\n",
        "      Since, for the first time we need to calculate 2 evaluation points, we will keep the first iteration \n",
        "      out of the iteration look'''\n",
        "    #Iteration : 1\n",
        "    a1 = a + ro*(b-a)\n",
        "    b1 = a + (1-ro)*(b-a)\n",
        "    f1= fun(a1)\n",
        "    print(\"Value of function evaluation on the left of the minimum:\",f1,\"\\t\")\n",
        "    f2 = fun(b1)\n",
        "    print(\"Value of function evaluation on the right of the minimum:\",f1,\"\\t\")\n",
        "\n",
        "    for i in range(1,N+2):\n",
        "      f1= fun(a1)\n",
        "      f2= fun(b1)\n",
        "      if abs(a-b) <= 0.3:\n",
        "        print(\"The final range between a & b : \",abs(b-a))\n",
        "        return\n",
        "      if f1 <= f2:\n",
        "        print(\"Current values of a & b\",\"a:\",a,\"b:\",b,\"\\t\")\n",
        "        print(\"Iteration :\",i,\"value of function evaluation\",\"f1: \",f1,\" f2: \",f2,\"\\t\")\n",
        "        b=b1\n",
        "        b1=a1\n",
        "        a1 = a + ro*(b-a) \n",
        "      else:\n",
        "        print(\"Current values of a & b\",\"a:\",a,\"b:\",b,\"\\t\")\n",
        "        print(\"Iteration :\",i,\"value of function evaluation\",\"f1: \",f1,\" f2: \",f2,\"\\t\")\n",
        "        a = a1\n",
        "        a1 = b1\n",
        "        b1 =  a + (1-ro)*(b-a)\n",
        "  "
      ],
      "execution_count": 28,
      "outputs": []
    },
    {
      "cell_type": "code",
      "metadata": {
        "colab": {
          "base_uri": "https://localhost:8080/"
        },
        "id": "cg2YpTe_SlwA",
        "outputId": "8eaa97b3-fdcb-40f8-d183-3fccbb9f5746"
      },
      "source": [
        "a=0\n",
        "b=2\n",
        "ro = 0.3819\n",
        "golden_section_search(a,b,ro)"
      ],
      "execution_count": 29,
      "outputs": [
        {
          "output_type": "stream",
          "text": [
            "Value of function evaluation on the left of the minimum: -24.360539847524606 \t\n",
            "Value of function evaluation on the right of the minimum: -24.360539847524606 \t\n",
            "Current values of a & b a: 0 b: 2 \t\n",
            "Iteration : 1 value of function evaluation f1:  -24.360539847524606  f2:  -18.955293886084604 \t\n",
            "Current values of a & b a: 0 b: 1.2362 \t\n",
            "Iteration : 2 value of function evaluation f1:  -21.09781971314749  f2:  -24.360539847524606 \t\n",
            "Current values of a & b a: 0.47210478 b: 1.2362 \t\n",
            "Iteration : 3 value of function evaluation f1:  -24.360539847524606  f2:  -23.591352580102786 \t\n",
            "Current values of a & b a: 0.47210478 b: 0.9443920354819999 \t\n",
            "Iteration : 4 value of function evaluation f1:  -23.83739668077605  f2:  -24.360539847524606 \t\n",
            "The final range between a & b :  0.2919207526134241\n"
          ],
          "name": "stdout"
        }
      ]
    }
  ]
}