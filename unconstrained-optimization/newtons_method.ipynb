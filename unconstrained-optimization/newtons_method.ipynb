{
  "nbformat": 4,
  "nbformat_minor": 0,
  "metadata": {
    "colab": {
      "name": "newton's_method.ipynb",
      "provenance": [],
      "collapsed_sections": []
    },
    "kernelspec": {
      "name": "python3",
      "display_name": "Python 3"
    },
    "language_info": {
      "name": "python"
    }
  },
  "cells": [
    {
      "cell_type": "code",
      "metadata": {
        "colab": {
          "base_uri": "https://localhost:8080/"
        },
        "id": "4Ga206uNyAEU",
        "outputId": "f71ebe28-6f3d-4482-c1ec-b454f1de0784"
      },
      "source": [
        "'''Link :https://medium.com/@jamesetaylor/create-a-derivative-calculator-in-python-72ee7bc734a4'''\n",
        "''' Using the concept of finite difference :https://www.wikiwand.com/en/Finite_difference'''\n",
        "\n",
        "#Create a derivative and second derivative calculator in Python\n",
        "\n",
        "from math import *\n",
        "import numpy  as np\n",
        "\n",
        "# Function definition \n",
        "def f(x):\n",
        "  #return (1/2)*(x**2)- sin(x)\n",
        "  return x**3 - 12.2*x**2 + 7.45*x + 42\n",
        "\n",
        "#function to calculate 1st derivative\n",
        "def der1(f,value):\n",
        "  h = 0.00001      # substitute for h-> infinity\n",
        "  top = f(value+h) - f(value)\n",
        "  bottom = h\n",
        "  slope = top/bottom\n",
        "\n",
        "  #Returns slode to second decimal \n",
        "  return float(\"%.2f\"% slope)\n",
        "\n",
        "#function to calculate 2nd derivative\n",
        "def der2(f,value):\n",
        "  h = 0.00001\n",
        "  top = f(value + 2*h) - 2*f(value + h) + f(value)\n",
        "  bottom = h**2\n",
        "  slope = top/bottom\n",
        "\n",
        "  #Returns slode to second decimal \n",
        "  return float(\"%.2f\"% slope)\n",
        "\n",
        "print(f(0.5))\n",
        "print(der1(f,0.5))\n",
        "print(der2(f,0.5))"
      ],
      "execution_count": 2,
      "outputs": [
        {
          "output_type": "stream",
          "text": [
            "42.8\n",
            "-4.0\n",
            "-21.4\n"
          ],
          "name": "stdout"
        }
      ]
    },
    {
      "cell_type": "code",
      "metadata": {
        "id": "9wlR_es91BP3"
      },
      "source": [
        "# Implementation of Newton method\n",
        "\n",
        "def Newton(x,eps):\n",
        "  x0 = x\n",
        "\n",
        "  x1 = np.float(\"{:10.10f}\".format(x0 - (der1(f,x0)/der2(f,x0))))\n",
        "\n",
        "  i=1\n",
        "\n",
        "  print(\"Iteration :\",i,\"x0:\", x0,\"x1:\", x1,\"f'(x):\",der1(f,x0),\"\\t\")\n",
        "\n",
        "  while abs(x1 - x0) > eps:\n",
        "\n",
        "    i=i+1\n",
        "\n",
        "    x0=x1\n",
        "\n",
        "    x1 = np.float(\"{:10.10f}\".format(x0 - (der1(f,x0)/der2(f,x0))))\n",
        "\n",
        "    print(\"Iteration :\",i,\"x0:\", x0,\"x1:\", x1,\"f'(x):\",der1(f,x0),\"f''(x):\",der2(f,x0),\"\\t\")\n",
        "    \n",
        "  return x1\n"
      ],
      "execution_count": 3,
      "outputs": []
    },
    {
      "cell_type": "code",
      "metadata": {
        "colab": {
          "base_uri": "https://localhost:8080/"
        },
        "id": "N7YdmDFZTsMr",
        "outputId": "e216821a-e744-4cbd-e398-b55863e96589"
      },
      "source": [
        "x = 0.5\n",
        "eps = 0.00001\n",
        "Newton(x,eps=0.00001)\n",
        "print(\"Observe that f''(x) = 1.673 > 0, so we can assume that x* < x1 is a strict minimizer.\")"
      ],
      "execution_count": 121,
      "outputs": [
        {
          "output_type": "stream",
          "text": [
            "Iteration : 1 x0: 0.5 x1: 0.7567567568 f'(x): -0.38 \t\n",
            "Iteration : 2 x0: 0.7567567568 x1: 0.7390052775 f'(x): 0.03 f''(x): 1.69 \t\n",
            "Iteration : 3 x0: 0.7390052775 x1: 0.7390052775 f'(x): -0.0 f''(x): 1.67 \t\n",
            "Observe that f''(x) = 1.673 > 0, so we can assume that x* < x1 is a strict minimizer.\n"
          ],
          "name": "stdout"
        }
      ]
    }
  ]
}