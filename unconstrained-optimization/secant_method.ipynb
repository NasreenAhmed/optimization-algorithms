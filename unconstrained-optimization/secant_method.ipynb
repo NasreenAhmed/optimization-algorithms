{
  "nbformat": 4,
  "nbformat_minor": 0,
  "metadata": {
    "colab": {
      "name": "secant_method.ipynb",
      "provenance": [],
      "collapsed_sections": []
    },
    "kernelspec": {
      "name": "python3",
      "display_name": "Python 3"
    },
    "language_info": {
      "name": "python"
    }
  },
  "cells": [
    {
      "cell_type": "markdown",
      "metadata": {
        "id": "XDt8aO08HVVH"
      },
      "source": [
        "Q. The objective of this exercise is to implement the secant method \n",
        "(a) Write a simple program to implement the secant method to locate the root of the equation g(x)=00. For the stoppoing criterion, we condition $|x^{(k+1)}-x^{(k)}| <|{x^{(k)}}|\\epsilon$"
      ]
    },
    {
      "cell_type": "code",
      "metadata": {
        "id": "ov67Az7N_6A2"
      },
      "source": [
        "from math import *\n",
        "import numpy  as np\n",
        "\n",
        "# Function definition \n",
        "def g(x):\n",
        "  #return (1/2)*(x**2)- sin(x)\n",
        "  return x**3 - 12.2*x**2 + 7.45*x + 42"
      ],
      "execution_count": 134,
      "outputs": []
    },
    {
      "cell_type": "code",
      "metadata": {
        "id": "pZl-C972AXZK"
      },
      "source": [
        "# Implementation of Secant method\n",
        "\n",
        "def secant(x0,x1,eps):\n",
        "  \n",
        "  i=0\n",
        "\n",
        "  x2 = ((g(x1)*x0) - (g(x0)*x1))/(g(x1)-g(x0))\n",
        "\n",
        "  x2 = np.float(\"{:.2f}\".format(x2))\n",
        "\n",
        "  arr = np.empty((5), dtype=object)\n",
        "\n",
        "  arr1 = np.empty((5), dtype=object)\n",
        "\n",
        "  arr[0] = i; arr[1] = x0; arr[2] = x1; arr[3] = x2; arr[4] = g(x2)\n",
        "\n",
        "  while abs(x2-x1) > abs(x1)*eps:\n",
        "\n",
        "    i = i+1 \n",
        "\n",
        "    x0 = x1\n",
        "\n",
        "    x1 = x2\n",
        "\n",
        "    x2 = ((g(x1)*x0) - (g(x0)*x1))/(g(x1)-g(x0))\n",
        "\n",
        "    x2 = np.float(\"{:.2f}\".format(x2))\n",
        "\n",
        "    arr1[0] = i;arr1[1] = x0; arr1[2] = x1; arr1[3] = x2; arr1[4] = g(x2)\n",
        "    \n",
        "    arr = np.vstack((arr,arr1))\n",
        "  \n",
        "  arr1 = np.array([\"Iter-k\",\"x0\",\"x1\",\"x2\",\"g(x)\"])\n",
        "   \n",
        "  arr = np.vstack((arr1,arr))\n",
        "\n",
        "  for i in arr:\n",
        "\n",
        "      print(i)\n"
      ],
      "execution_count": 156,
      "outputs": []
    },
    {
      "cell_type": "code",
      "metadata": {
        "colab": {
          "base_uri": "https://localhost:8080/"
        },
        "id": "Rd0l669GAZ2x",
        "outputId": "e1aa2eb6-4594-4cd0-c793-819d23130f39"
      },
      "source": [
        "x0 = 13\n",
        "x1 = 12\n",
        "eps = 0.00001\n",
        "secant(x0,x1,eps)"
      ],
      "execution_count": 157,
      "outputs": [
        {
          "output_type": "stream",
          "text": [
            "['Iter-k' 'x0' 'x1' 'x2' 'g(x)']\n",
            "[0 13 12 11.4 22.96200000000016]\n",
            "[1 12 11.4 11.23 3.3339870000003202]\n",
            "[2 11.4 11.23 11.2 -5.684341886080802e-14]\n",
            "[3 11.23 11.2 11.2 -5.684341886080802e-14]\n"
          ],
          "name": "stdout"
        }
      ]
    },
    {
      "cell_type": "markdown",
      "metadata": {
        "id": "0P9YCBhrIB9l"
      },
      "source": [
        "(b) Let $g(x) = (2x-1)^2 + 4(4-1024x)^4$. Find the root of $g(x)=0$ using the secant method with $x^{(-1)}=0, x^{(0)}=1, \\epsilon = 10^{-5}$.Also determine the value of g at the solution obtained."
      ]
    },
    {
      "cell_type": "code",
      "metadata": {
        "id": "6mRPZww0IAES"
      },
      "source": [
        "# Function definition \n",
        "def g1(x):\n",
        "  \n",
        "  return ((2*x-1)**2) + (4*(4-1024*x)**4)\n",
        "\n",
        "# Implementation of Secant method\n",
        "\n",
        "def secant(x0,x1,eps):\n",
        "  \n",
        "  i=0\n",
        "\n",
        "  x2 = ((g1(x1)*x0) - (g1(x0)*x1))/(g1(x1)-g1(x0))\n",
        "\n",
        "  arr = np.empty((5), dtype=object)\n",
        "\n",
        "  arr1 = np.empty((5), dtype=object)\n",
        "\n",
        "  arr[0] = i; arr[1] = x0; arr[2] = x1; arr[3] = x2; arr[4] = g1(x2)\n",
        "\n",
        "  while abs(x2-x1) > abs(x1)*eps:\n",
        "\n",
        "    i = i+1 \n",
        "\n",
        "    x0 = x1\n",
        "\n",
        "    x1 = x2\n",
        "\n",
        "    x2 = ((g1(x1)*x0) - (g1(x0)*x1))/(g1(x1)-g1(x0))\n",
        "\n",
        "    arr1[0] = i;arr1[1] = x0; arr1[2] = x1; arr1[3] = x2; arr1[4] = g1(x2)\n",
        "    \n",
        "    arr = np.vstack((arr,arr1))\n",
        "  \n",
        "  arr1 = np.array([\"Iter-k\",\"x0\",\"x1\",\"x2\",\"g(x)\"])\n",
        "   \n",
        "  arr = np.vstack((arr1,arr))\n",
        "\n",
        "  for i in arr:\n",
        "\n",
        "      print(*i)\n"
      ],
      "execution_count": 168,
      "outputs": []
    },
    {
      "cell_type": "code",
      "metadata": {
        "colab": {
          "base_uri": "https://localhost:8080/"
        },
        "id": "ynttcyA0LtDI",
        "outputId": "33c608e2-5a3f-4125-e6fe-c83cadcfe4f4"
      },
      "source": [
        "x0 = 0\n",
        "x1 = 1\n",
        "eps = 0.00001\n",
        "secant(x0,x1,eps)"
      ],
      "execution_count": 170,
      "outputs": [
        {
          "output_type": "stream",
          "text": [
            "Iter-k x0 x1 x2 g(x)\n",
            "0 0 1 -2.3673539047528324e-10 1025.0002482360187\n",
            "1 1 -2.3673539047528324e-10 -4.734708383395378e-10 1025.0004964721415\n",
            "2 -2.3673539047528324e-10 -4.734708383395378e-10 0.0009775121818762856 324.57618912953166\n",
            "3 -4.734708383395378e-10 0.0009775121818762856 0.0014304909394271194 166.22596917864954\n",
            "4 0.0009775121818762856 0.0014304909394271194 0.0019059991705781961 71.39644245661505\n",
            "5 0.0014304909394271194 0.0019059991705781961 0.00226400576658851 32.980711093943384\n",
            "6 0.0019059991705781961 0.00226400576658851 0.0025713619379775926 14.954685514919948\n",
            "7 0.00226400576658851 0.0025713619379775926 0.0028263496425075542 6.9700123975749015\n",
            "8 0.0025713619379775926 0.0028263496425075542 0.0030489345167639906 3.3637104229028876\n",
            "9 0.0028263496425075542 0.0030489345167639906 0.0032565463769951347 1.7706641313485134\n",
            "10 0.0030489345167639906 0.0032565463769951347 0.0034873060706102775 1.1215819905072293\n",
            "11 0.0032565463769951347 0.0034873060706102775 0.003886047462814129 0.9845169482362165\n",
            "12 0.0034873060706102775 0.003886047462814129 0.006750145062636765 288.65610743221816\n",
            "13 0.003886047462814129 0.006750145062636765 0.00387624547776693 0.9845586837711187\n",
            "14 0.006750145062636765 0.00387624547776693 0.0038664095283834055 0.9846052388347548\n",
            "15 0.00387624547776693 0.0038664095283834055 0.21188948017907833 8229493255.343119\n",
            "16 0.0038664095283834055 0.21188948017907833 0.0038664095034948004 0.9846052389612274\n",
            "17 0.21188948017907833 0.0038664095034948004 0.0038664094786061954 0.9846052390877005\n"
          ],
          "name": "stdout"
        }
      ]
    }
  ]
}